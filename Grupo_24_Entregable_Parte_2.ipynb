{
  "nbformat": 4,
  "nbformat_minor": 0,
  "metadata": {
    "colab": {
      "name": "Copia de Entregable - Parte 2.ipynb",
      "provenance": [],
      "collapsed_sections": [],
      "include_colab_link": true
    },
    "kernelspec": {
      "name": "python3",
      "display_name": "Python 3"
    }
  },
  "cells": [
    {
      "cell_type": "markdown",
      "metadata": {
        "id": "view-in-github",
        "colab_type": "text"
      },
      "source": [
        "<a href=\"https://colab.research.google.com/github/argennof/Data_A-V_2022/blob/main/Grupo_24_Entregable_Parte_2.ipynb\" target=\"_parent\"><img src=\"https://colab.research.google.com/assets/colab-badge.svg\" alt=\"Open In Colab\"/></a>"
      ]
    },
    {
      "cell_type": "markdown",
      "metadata": {
        "id": "LYvAOR2VzHmW"
      },
      "source": [
        "# **DIPLOMATURA 2022**\n",
        "# ANÁLISIS Y VISUALIZACIÓN DE DATOS \n",
        "## GRUPO Nº24\n",
        "## Entregable # 2"
      ]
    },
    {
      "cell_type": "markdown",
      "source": [
        "## Ejercicio 1: Estimación\n",
        "\n",
        "- **Consigna:**  calcular una estimación puntual y un intervalo de confianza de nivel (1-alpha) para la resta entre la media del salario Neto para Hombres menos la media del salario Neto para otros géneros (diferencia de las medias entre el grupoA y grupoB). \n",
        "¿Cómo se relaciona este intervalo de confianza con el test de hipótesis?"
      ],
      "metadata": {
        "id": "RVUW60BYXPL-"
      }
    },
    {
      "cell_type": "markdown",
      "source": [
        "## Respuesta\n",
        "### 1 a) Incoporación de las Bibliotecas estándar y lectura del conjunto de datos."
      ],
      "metadata": {
        "id": "g5bOCdNRbfyh"
      }
    },
    {
      "cell_type": "code",
      "source": [
        "import matplotlib\n",
        "import matplotlib.pyplot as plt\n",
        "import numpy\n",
        "import pandas as pd\n",
        "import seaborn\n",
        "\n",
        "seaborn.set_context('talk')\n",
        "\n",
        "url = 'https://cs.famaf.unc.edu.ar/~mteruel/datasets/diplodatos/sysarmy_survey_2020_processed.csv'\n",
        "df_raw_data = pd.read_csv(url)\n"
      ],
      "metadata": {
        "id": "DnNciZiQ2MB5"
      },
      "execution_count": null,
      "outputs": []
    },
    {
      "cell_type": "markdown",
      "source": [
        "### **Nota**: previo al cálculo de las estimaciones solicitadas proponemos mantener los criterios aplicados al entregable parte 1 para el acondicionamiento y filtrado de datos.\n"
      ],
      "metadata": {
        "id": "t6nCaTr7gJOo"
      }
    },
    {
      "cell_type": "markdown",
      "source": [
        "### 1 b) Condiciones para crear el conjunto de datos.\n",
        "\n",
        "#### Selección de columnas relevantes: \n",
        "  - tools_programming_languages\n",
        "  - salary_monthly_NETO\n",
        "  - salary_monthly_BRUTO\n",
        "  - profile_gender"
      ],
      "metadata": {
        "id": "Rc71dnT7-R9K"
      }
    },
    {
      "cell_type": "code",
      "source": [
        "relevant_columns = ['tools_programming_languages', 'salary_monthly_NETO', 'salary_monthly_BRUTO', 'profile_gender']\n",
        "\n",
        "# Convert the comma-separated string of languages to a list of string.\n",
        "# Remove 'ninguno de los anteriores' option, spaces and training commas.\n",
        "def split_languages(languages_str):\n",
        "  if not isinstance(languages_str, str):\n",
        "    return []\n",
        "  # Remove 'other' option\n",
        "  languages_str = languages_str.lower()\\\n",
        "    .replace('ninguno de los anteriores', '')\n",
        "  # Split string into list of items\n",
        "  # Remove spaces and commas for each item\n",
        "  return [lang.strip().replace(',', '')\n",
        "          for lang in languages_str.split()]\n",
        "\n",
        "# Create a new column with the list of languages\n",
        "df_raw_data.loc[:, 'cured_programming_languages'] = df_raw_data.tools_programming_languages\\\n",
        "    .apply(split_languages)\n",
        "\n",
        "if 'cured_programming_languages' not in relevant_columns:\n",
        "    relevant_columns.append('cured_programming_languages') \n",
        "\n",
        "# Realizamos un Subset del conjunto inicial solo con las columnas de interés\n",
        "\n",
        "df_relevant = df_raw_data[relevant_columns]\n"
      ],
      "metadata": {
        "id": "6u5EDBNUGXCb"
      },
      "execution_count": null,
      "outputs": []
    },
    {
      "cell_type": "markdown",
      "source": [
        "#### * Restricción del espacio muestral (Idem parte 1):\n",
        "\n",
        "Se crean filtros a fin de descartar registros que no son de interes o que presentan inconsistencias:\n",
        "   - Extraer aquellos registros en los que el encuestado marco que no programaba ningún lenguaje o el campo correspondiente aparece vacio en lenguaje: ```(tools_programming_languages <> ninguno)```,inconsistentes dado el objetivo del análisis. ->(Condición 0, 1 y 2)\n",
        "   - Excluir aquellos salarios que sean iguales o inferiores a un determinado monto dado que los mismos podrian ser considerados como _\"Outlayers\"_, en nuestro caso este se fijo en: $15000 Ars. ->(Condición 3)\n",
        "   - Excluimos donde la proporción de descuento entre el Bruto y el Neto es inconsistente. ->(Condición 4)\n"
      ],
      "metadata": {
        "id": "E-nJTIEmS2Nq"
      }
    },
    {
      "cell_type": "markdown",
      "source": [
        "#### * Expresando los filtros con ayuda de Python:\n",
        "\n"
      ],
      "metadata": {
        "id": "3_7usPihWctK"
      }
    },
    {
      "cell_type": "code",
      "source": [
        "cut_off_salary = 15000\n",
        "\n",
        "# Filtros de ingreso Cadana vacia o nula\n",
        "filter_0 = df_relevant [\"cured_programming_languages\"].apply(lambda x: [] == x) \n",
        "filter_1 = df_relevant [\"cured_programming_languages\"].apply(lambda x: '' in x) \n",
        "\n",
        "# Filtros de ingreso Ninguno \n",
        "filter_2 = df_relevant [\"cured_programming_languages\"].apply(lambda x: 'ninguno' in [i.lower() for i in x]) \n",
        "\n",
        "# Filtro donde el salario NETO no es de interés:\n",
        "filter_3 = df_relevant [\"salary_monthly_NETO\"] > cut_off_salary\n",
        "\n",
        "# Filtro donde el salario NETO supera al BRUTO - inconsitente:\n",
        "filter_4 = df_relevant [\"salary_monthly_NETO\"] >  df_relevant [\"salary_monthly_BRUTO\"]\n",
        "\n",
        "# Unión de criterios anteriores:\n",
        "filter = (~filter_0) & (~filter_1) & (~filter_2) & (filter_3) & (~filter_4) "
      ],
      "metadata": {
        "id": "7PPFytYsnu9D"
      },
      "execution_count": null,
      "outputs": []
    },
    {
      "cell_type": "markdown",
      "source": [
        "#### * Creando el set de datos filtrado:"
      ],
      "metadata": {
        "id": "duiT1t6CebPG"
      }
    },
    {
      "cell_type": "code",
      "source": [
        "# Set de datos filtrados:\n",
        "df_filtered = df_relevant[filter]"
      ],
      "metadata": {
        "id": "Jy0e6CnKms9s"
      },
      "execution_count": null,
      "outputs": []
    },
    {
      "cell_type": "markdown",
      "source": [
        "#### * Antes de continuar con el proceso de estimación verificamos la consistencia en los datos de _género_ (profile_gender) presentes en nuestra muestras:\n"
      ],
      "metadata": {
        "id": "P7uyQk5VceSD"
      }
    },
    {
      "cell_type": "code",
      "source": [
        "print(f'Géneros presentes en el espacio de muestras: {df_filtered[\"profile_gender\"].unique()}')"
      ],
      "metadata": {
        "id": "_fMYEE2dcOZU",
        "outputId": "d63c3932-0899-4710-edee-baadf52de9e9",
        "colab": {
          "base_uri": "https://localhost:8080/"
        }
      },
      "execution_count": null,
      "outputs": [
        {
          "output_type": "stream",
          "name": "stdout",
          "text": [
            "Géneros presentes en el espacio de muestras: ['Hombre' 'Otros' 'Mujer']\n"
          ]
        }
      ]
    },
    {
      "cell_type": "markdown",
      "source": [
        "#### * Los géneros presentes en el conjunto de datos a estudiar son:\n",
        "   - Hombre\n",
        "   - Mujer\n",
        "   - Otros\n",
        "   \n",
        "Por los resultados expuestos en la columna de género, estos se consideran _*consistentes*_ y no es necesario aplicar un tratamiento extra de curación."
      ],
      "metadata": {
        "id": "jweVMTjZlaPQ"
      }
    },
    {
      "cell_type": "markdown",
      "source": [
        "### 1 c) A continuación, realizaremos un relevamiento prelimiar a fin de obtener una descripción del grupo de datos bajo estudio:"
      ],
      "metadata": {
        "id": "Ag__l-E8nhkq"
      }
    },
    {
      "cell_type": "markdown",
      "source": [
        " \n",
        "#### * Consultamos las Medidas de posición y dispersión"
      ],
      "metadata": {
        "id": "7Wt0mZx5gxIA"
      }
    },
    {
      "cell_type": "code",
      "metadata": {
        "colab": {
          "base_uri": "https://localhost:8080/",
          "height": 206
        },
        "id": "pycKJ5jWkShW",
        "outputId": "f4acdeda-aed3-4ff1-85c0-91b447f9e17a"
      },
      "source": [
        "# Agrupamos los salarios mensuales Netos presentes en el conjunto según la variable Género:\n",
        "df_filtered[['profile_gender', 'salary_monthly_NETO']].groupby('profile_gender').describe()"
      ],
      "execution_count": null,
      "outputs": [
        {
          "output_type": "execute_result",
          "data": {
            "text/plain": [
              "               salary_monthly_NETO                                         \\\n",
              "                             count           mean            std      min   \n",
              "profile_gender                                                              \n",
              "Hombre                      4002.0  104737.269593  102697.036594  15600.0   \n",
              "Mujer                        601.0   77700.812729   52017.585453  16000.0   \n",
              "Otros                         26.0  107250.000000   89911.615490  34000.0   \n",
              "\n",
              "                                                       \n",
              "                    25%      50%       75%        max  \n",
              "profile_gender                                         \n",
              "Hombre          58000.0  83000.0  112000.0  2080000.0  \n",
              "Mujer           47000.0  67000.0   93000.0   750000.0  \n",
              "Otros           41250.0  78900.0  127000.0   380000.0  "
            ],
            "text/html": [
              "\n",
              "  <div id=\"df-1dcda4fc-b14a-4e04-a156-d27211678a31\">\n",
              "    <div class=\"colab-df-container\">\n",
              "      <div>\n",
              "<style scoped>\n",
              "    .dataframe tbody tr th:only-of-type {\n",
              "        vertical-align: middle;\n",
              "    }\n",
              "\n",
              "    .dataframe tbody tr th {\n",
              "        vertical-align: top;\n",
              "    }\n",
              "\n",
              "    .dataframe thead tr th {\n",
              "        text-align: left;\n",
              "    }\n",
              "\n",
              "    .dataframe thead tr:last-of-type th {\n",
              "        text-align: right;\n",
              "    }\n",
              "</style>\n",
              "<table border=\"1\" class=\"dataframe\">\n",
              "  <thead>\n",
              "    <tr>\n",
              "      <th></th>\n",
              "      <th colspan=\"8\" halign=\"left\">salary_monthly_NETO</th>\n",
              "    </tr>\n",
              "    <tr>\n",
              "      <th></th>\n",
              "      <th>count</th>\n",
              "      <th>mean</th>\n",
              "      <th>std</th>\n",
              "      <th>min</th>\n",
              "      <th>25%</th>\n",
              "      <th>50%</th>\n",
              "      <th>75%</th>\n",
              "      <th>max</th>\n",
              "    </tr>\n",
              "    <tr>\n",
              "      <th>profile_gender</th>\n",
              "      <th></th>\n",
              "      <th></th>\n",
              "      <th></th>\n",
              "      <th></th>\n",
              "      <th></th>\n",
              "      <th></th>\n",
              "      <th></th>\n",
              "      <th></th>\n",
              "    </tr>\n",
              "  </thead>\n",
              "  <tbody>\n",
              "    <tr>\n",
              "      <th>Hombre</th>\n",
              "      <td>4002.0</td>\n",
              "      <td>104737.269593</td>\n",
              "      <td>102697.036594</td>\n",
              "      <td>15600.0</td>\n",
              "      <td>58000.0</td>\n",
              "      <td>83000.0</td>\n",
              "      <td>112000.0</td>\n",
              "      <td>2080000.0</td>\n",
              "    </tr>\n",
              "    <tr>\n",
              "      <th>Mujer</th>\n",
              "      <td>601.0</td>\n",
              "      <td>77700.812729</td>\n",
              "      <td>52017.585453</td>\n",
              "      <td>16000.0</td>\n",
              "      <td>47000.0</td>\n",
              "      <td>67000.0</td>\n",
              "      <td>93000.0</td>\n",
              "      <td>750000.0</td>\n",
              "    </tr>\n",
              "    <tr>\n",
              "      <th>Otros</th>\n",
              "      <td>26.0</td>\n",
              "      <td>107250.000000</td>\n",
              "      <td>89911.615490</td>\n",
              "      <td>34000.0</td>\n",
              "      <td>41250.0</td>\n",
              "      <td>78900.0</td>\n",
              "      <td>127000.0</td>\n",
              "      <td>380000.0</td>\n",
              "    </tr>\n",
              "  </tbody>\n",
              "</table>\n",
              "</div>\n",
              "      <button class=\"colab-df-convert\" onclick=\"convertToInteractive('df-1dcda4fc-b14a-4e04-a156-d27211678a31')\"\n",
              "              title=\"Convert this dataframe to an interactive table.\"\n",
              "              style=\"display:none;\">\n",
              "        \n",
              "  <svg xmlns=\"http://www.w3.org/2000/svg\" height=\"24px\"viewBox=\"0 0 24 24\"\n",
              "       width=\"24px\">\n",
              "    <path d=\"M0 0h24v24H0V0z\" fill=\"none\"/>\n",
              "    <path d=\"M18.56 5.44l.94 2.06.94-2.06 2.06-.94-2.06-.94-.94-2.06-.94 2.06-2.06.94zm-11 1L8.5 8.5l.94-2.06 2.06-.94-2.06-.94L8.5 2.5l-.94 2.06-2.06.94zm10 10l.94 2.06.94-2.06 2.06-.94-2.06-.94-.94-2.06-.94 2.06-2.06.94z\"/><path d=\"M17.41 7.96l-1.37-1.37c-.4-.4-.92-.59-1.43-.59-.52 0-1.04.2-1.43.59L10.3 9.45l-7.72 7.72c-.78.78-.78 2.05 0 2.83L4 21.41c.39.39.9.59 1.41.59.51 0 1.02-.2 1.41-.59l7.78-7.78 2.81-2.81c.8-.78.8-2.07 0-2.86zM5.41 20L4 18.59l7.72-7.72 1.47 1.35L5.41 20z\"/>\n",
              "  </svg>\n",
              "      </button>\n",
              "      \n",
              "  <style>\n",
              "    .colab-df-container {\n",
              "      display:flex;\n",
              "      flex-wrap:wrap;\n",
              "      gap: 12px;\n",
              "    }\n",
              "\n",
              "    .colab-df-convert {\n",
              "      background-color: #E8F0FE;\n",
              "      border: none;\n",
              "      border-radius: 50%;\n",
              "      cursor: pointer;\n",
              "      display: none;\n",
              "      fill: #1967D2;\n",
              "      height: 32px;\n",
              "      padding: 0 0 0 0;\n",
              "      width: 32px;\n",
              "    }\n",
              "\n",
              "    .colab-df-convert:hover {\n",
              "      background-color: #E2EBFA;\n",
              "      box-shadow: 0px 1px 2px rgba(60, 64, 67, 0.3), 0px 1px 3px 1px rgba(60, 64, 67, 0.15);\n",
              "      fill: #174EA6;\n",
              "    }\n",
              "\n",
              "    [theme=dark] .colab-df-convert {\n",
              "      background-color: #3B4455;\n",
              "      fill: #D2E3FC;\n",
              "    }\n",
              "\n",
              "    [theme=dark] .colab-df-convert:hover {\n",
              "      background-color: #434B5C;\n",
              "      box-shadow: 0px 1px 3px 1px rgba(0, 0, 0, 0.15);\n",
              "      filter: drop-shadow(0px 1px 2px rgba(0, 0, 0, 0.3));\n",
              "      fill: #FFFFFF;\n",
              "    }\n",
              "  </style>\n",
              "\n",
              "      <script>\n",
              "        const buttonEl =\n",
              "          document.querySelector('#df-1dcda4fc-b14a-4e04-a156-d27211678a31 button.colab-df-convert');\n",
              "        buttonEl.style.display =\n",
              "          google.colab.kernel.accessAllowed ? 'block' : 'none';\n",
              "\n",
              "        async function convertToInteractive(key) {\n",
              "          const element = document.querySelector('#df-1dcda4fc-b14a-4e04-a156-d27211678a31');\n",
              "          const dataTable =\n",
              "            await google.colab.kernel.invokeFunction('convertToInteractive',\n",
              "                                                     [key], {});\n",
              "          if (!dataTable) return;\n",
              "\n",
              "          const docLinkHtml = 'Like what you see? Visit the ' +\n",
              "            '<a target=\"_blank\" href=https://colab.research.google.com/notebooks/data_table.ipynb>data table notebook</a>'\n",
              "            + ' to learn more about interactive tables.';\n",
              "          element.innerHTML = '';\n",
              "          dataTable['output_type'] = 'display_data';\n",
              "          await google.colab.output.renderOutput(dataTable, element);\n",
              "          const docLink = document.createElement('div');\n",
              "          docLink.innerHTML = docLinkHtml;\n",
              "          element.appendChild(docLink);\n",
              "        }\n",
              "      </script>\n",
              "    </div>\n",
              "  </div>\n",
              "  "
            ]
          },
          "metadata": {},
          "execution_count": 132
        }
      ]
    },
    {
      "cell_type": "markdown",
      "source": [
        "#### * A su vez, construimos los Histogramas de frecuencias según género(_se acota el area de visualización a un salario máximo de 500000 ($Ars)_)"
      ],
      "metadata": {
        "id": "EoVgIGA-g2_i"
      }
    },
    {
      "cell_type": "code",
      "source": [
        "fig, ax = plt.subplots(figsize=(10,6))\n",
        "seaborn.color_palette(\"Set2\")\n",
        "seaborn.despine()\n",
        "seaborn.histplot(df_filtered, x=\"salary_monthly_NETO\", ax = ax, hue=\"profile_gender\", fill=True).set(title='Salario Mensual Neto \\\n",
        "categorizado por género',  xlabel='Salario Mensual Neto ($ARS)', ylabel='Conteo')\n",
        "ax.set_xlim(1, 500000) # Se restringe la visualización al máximo de $500000.\n"
      ],
      "metadata": {
        "colab": {
          "base_uri": "https://localhost:8080/",
          "height": 447
        },
        "id": "j22gQVnmwUP1",
        "outputId": "b4669656-87af-4788-9a3a-17cee83c3dd6"
      },
      "execution_count": null,
      "outputs": [
        {
          "output_type": "execute_result",
          "data": {
            "text/plain": [
              "(1.0, 500000.0)"
            ]
          },
          "metadata": {},
          "execution_count": 133
        },
        {
          "output_type": "display_data",
          "data": {
            "text/plain": [
              "<Figure size 720x432 with 1 Axes>"
            ],
            "image/png": "[encoded data removed]"
          },
          "metadata": {
            "needs_background": "light"
          }
        }
      ]
    },
    {
      "cell_type": "markdown",
      "source": [
        "Del anterior se puede inferir que la clase dominante es el género Hombre. Para representar y destacar a las otras clases se agruparán aquellos registros correspondientes _Mujer y Otros_. "
      ],
      "metadata": {
        "id": "Li9kxmdQHutm"
      }
    },
    {
      "cell_type": "markdown",
      "source": [
        "### 1 d) Conformación de los grupos para su estudio: se segmento el conjunto de datos y se construyeron dos poblaciones de estudio\n",
        "\n",
        "   - GrupoA = salario mensual Neto del grupo de Hombres\n",
        "   - GrupoB = salario mensual Neto para el complemento de la población muestreada (_*No Hombres*_)"
      ],
      "metadata": {
        "id": "SPmnQMlAFjqE"
      }
    },
    {
      "cell_type": "code",
      "source": [
        "# Definición de filtro para genero = \"Hombre\"\n",
        "is_man = df_filtered.profile_gender == 'Hombre'\n",
        "\n",
        "# Definición de grupo A y B\n",
        "groupA = df_filtered[is_man]\n",
        "groupB = df_filtered[~is_man]\n",
        "\n",
        "# Conteo de puntos muestrales que componen cada grupo\n",
        "nA = len(groupA)\n",
        "nB = len(groupB)\n",
        "print(f'----- ------ ----- ------ ----- ------ ')\n",
        "print(f'El grupo de encuestados cuyo género:')\n",
        "print(f'  - Grupo A - Es \"Hombre\" se compone de {nA} muestras.')\n",
        "print(f'  - Grupo B - NO es \"Hombre\" se compone de {nB} muestras.')\n",
        "print(f'----- ------ ----- ------ ----- ------ ')"
      ],
      "metadata": {
        "colab": {
          "base_uri": "https://localhost:8080/"
        },
        "id": "NKtJuU7iFj44",
        "outputId": "111c70e1-2101-4e0a-9946-dc77c552592a"
      },
      "execution_count": null,
      "outputs": [
        {
          "output_type": "stream",
          "name": "stdout",
          "text": [
            "----- ------ ----- ------ ----- ------ \n",
            "El grupo de encuestados cuyo género:\n",
            "  - Grupo A - Es \"Hombre\" se compone de 4002 muestras.\n",
            "  - Grupo B - NO es \"Hombre\" se compone de 627 muestras.\n",
            "----- ------ ----- ------ ----- ------ \n"
          ]
        }
      ]
    },
    {
      "cell_type": "markdown",
      "source": [
        "### 1 e) Histogramas de frecuencias Grupo A - Grupo B: "
      ],
      "metadata": {
        "id": "NfXQSvXfhxi3"
      }
    },
    {
      "cell_type": "code",
      "source": [
        "fig, ax = plt.subplots(figsize=(10,6))\n",
        "seaborn.despine()\n",
        "seaborn.histplot(groupA, x=\"salary_monthly_NETO\", color= seaborn.color_palette(\"tab20c\")[0] ,ax = ax,fill=True)\n",
        "plt.axvline(groupA['salary_monthly_NETO'].mean(), color= seaborn.color_palette(\"tab20c\")[0] ,linestyle='dotted')\n",
        "seaborn.histplot(groupB, x=\"salary_monthly_NETO\", color= seaborn.color_palette(\"tab20c\\\n",
        "\")[12], ax = ax, fill=True).set(title='Salario Mensual Neto \\\n",
        "por Grupos',  xlabel='Salario Mensual Neto ($ARS)', ylabel='Conteo')\n",
        "plt.axvline(groupB['salary_monthly_NETO'].mean(), color= seaborn.color_palette(\"tab20c\")[12] ,linestyle='dotted')\n",
        "ax.set_xlim(1, 500000) # Se restringe la visualización al máximo de $500000.\n",
        "plt.legend(labels=[\"Media Grupo A: Hombres\",\"Media Grupo B: NO Hombres\"], title = \"Género\");\n"
      ],
      "metadata": {
        "colab": {
          "base_uri": "https://localhost:8080/",
          "height": 430
        },
        "id": "eL2mahCGUba_",
        "outputId": "812c2887-3af6-4961-af4d-74caa6851fc7"
      },
      "execution_count": null,
      "outputs": [
        {
          "output_type": "display_data",
          "data": {
            "text/plain": [
              "<Figure size 720x432 with 1 Axes>"
            ],
            "image/png": "[encoded data removed]"
          },
          "metadata": {
            "needs_background": "light"
          }
        }
      ]
    },
    {
      "cell_type": "markdown",
      "metadata": {
        "id": "co_0M_ojtmUh"
      },
      "source": [
        "### 1 f) Estimación puntual de la diferencia entre las medias poblacionales:"
      ]
    },
    {
      "cell_type": "code",
      "source": [
        "mean_diff = groupA[\"salary_monthly_NETO\"].mean()-groupB[\"salary_monthly_NETO\"].mean()\n",
        "print('----- ------ ----- ------ ----- ------ ----- ------ ----- ------ ----- ------')\n",
        "print(\"La estimación puntual del parámetro diferencia de medias del \\\n",
        "salario neto mensual \\n entre la población cuyo género es Hombre y la agrupación \\\n",
        "de Otros géneros (No Hombres) \\n presentes  en el conjunto es de: \" + f\"${round(mean_diff,2)} (ARS)\")\n",
        "\n",
        "print('----- ------ ----- ------ ----- ------ ----- ------ ----- ------ ----- ------ ')"
      ],
      "metadata": {
        "colab": {
          "base_uri": "https://localhost:8080/"
        },
        "id": "VOjxrSdSKT7m",
        "outputId": "19a5eeba-527e-47bd-ebd9-bdebf553e7fe"
      },
      "execution_count": null,
      "outputs": [
        {
          "output_type": "stream",
          "name": "stdout",
          "text": [
            "----- ------ ----- ------ ----- ------ ----- ------ ----- ------ ----- ------\n",
            "La estimación puntual del parámetro diferencia de medias del salario neto mensual \n",
            " entre la población cuyo género es Hombre y la agrupación de Otros géneros (No Hombres) \n",
            " presentes  en el conjunto es de: $25811.13 (ARS)\n",
            "----- ------ ----- ------ ----- ------ ----- ------ ----- ------ ----- ------ \n"
          ]
        }
      ]
    },
    {
      "cell_type": "markdown",
      "source": [
        "### 1 g) Estimación por intervalo de confianza a partir de la diferencia entre las medias poblacionales:"
      ],
      "metadata": {
        "id": "8-mMQEqMQfMg"
      }
    },
    {
      "cell_type": "markdown",
      "source": [
        "\n",
        "**Estadístico (Pivote):**\n",
        "  \n",
        "$\\hspace{2cm} T=\\frac{(\\bar{x}-\\bar{y})-(μ_A- μ_B)}{S\\sqrt{\\frac{N_1+N_2}{(N_1*N_2)}}} \\hspace{2cm}S = \\sqrt{\\frac{\\sum_{i=1}^{N_1}(x_i-\\bar{x})^2+ \\sum_{i=1}^{N_2}(y_i-\\bar{y})^2}{N_1+N_2-2}} \\\\ \\\\ $\n",
        "\n",
        "**Distribución del estadístico:**\n",
        "\n",
        "$ \\hspace{2cm} T\\sim t_{N_1+N_2-2}$"
      ],
      "metadata": {
        "id": "-uN_B7mYTmqn"
      }
    },
    {
      "cell_type": "code",
      "source": [
        "# Importante, debemos instalar esta versión específica de scipy para poder\n",
        "# aplicar el parámetro \"alternative\" en la funcion ttest_ind\n",
        "\n",
        "!pip install scipy==1.6.0\n",
        "from scipy.stats import ttest_ind                                                                                                                                                                                                                                                                                                                                                                                                                                                                                                                                                                                                                                                                                                                                                                                                                                                                                                                                                                                                                                                                                                                                                                                                                                                               \n",
        "from scipy.stats import t\n",
        "\n",
        "# Probabilidad de error - (Riesgo medible):\n",
        "alpha = 0.05\n",
        "\n",
        "# dof - (Degrees of freedom): \n",
        "dof = nA + nB - 2\n",
        "\n",
        "# Desvio estándar de cada grupo\n",
        "stdA = groupA['salary_monthly_NETO'].std()\n",
        "stdB = groupB['salary_monthly_NETO'].std()\n",
        "print('\\n')\n",
        "print(\"------ ----- ----- ----- ------ ----- ----- ----------- ----- ----- ----- \")\n",
        "print(\"Dada la muestra bajo estudio, el desvío estándar del salario mensual \\\n",
        "neto para el grupo cuyo género es Hombre es:\" +f' ${round(stdA,2)} ARS.')\n",
        "print(f\"Mientras que la desviación estándar del salario mensual del grupo cuyo género NO es Hombre es: ${round(stdB,2)} ARS.\")\n",
        "print(\"------ ----- ----- ----- ------ ----- ----- ----------- ----- ----- -----\")    \n"
      ],
      "metadata": {
        "colab": {
          "base_uri": "https://localhost:8080/"
        },
        "id": "oLRXUCLxZhfx",
        "outputId": "0b433cc6-f909-4734-aa9f-a34b3d2ae70d"
      },
      "execution_count": null,
      "outputs": [
        {
          "output_type": "stream",
          "name": "stdout",
          "text": [
            "Requirement already satisfied: scipy==1.6.0 in /usr/local/lib/python3.7/dist-packages (1.6.0)\n",
            "Requirement already satisfied: numpy>=1.16.5 in /usr/local/lib/python3.7/dist-packages (from scipy==1.6.0) (1.21.6)\n",
            "\n",
            "\n",
            "------ ----- ----- ----- ------ ----- ----- ----------- ----- ----- ----- \n",
            "Dada la muestra bajo estudio, el desvío estándar del salario mensual neto para el grupo cuyo género es Hombre es: $102697.04 ARS.\n",
            "Mientras que la desviación estándar del salario mensual del grupo cuyo género NO es Hombre es: $54323.62 ARS.\n",
            "------ ----- ----- ----- ------ ----- ----- ----------- ----- ----- -----\n"
          ]
        }
      ]
    },
    {
      "cell_type": "markdown",
      "source": [
        "**Soporte de cálculo para el estadístico:**\n",
        "\n",
        "\\begin{equation} \n",
        "s^2 = \\frac{\\sum_{i=1}^{N_1}(x_{i} - \\bar{x})^{2} + \\sum_{i=1}^{N_2}(y_{i} - \\bar{y})^{2}}{{N_1} + {N_2} - 2}\n",
        "\\end{equation}\n",
        "\n",
        "Partiendo de las definiciones de la varianza y el desvío... \n",
        "\n",
        "**Varianza:**\n",
        "\n",
        "$$s^{2} = \\frac{SS}{N - 1} = \\frac{\\sum (x_{i} - \\bar{x})^{2}}{N - 1}$$\n",
        "\n",
        "**Desvío Estándar:**\n",
        "\n",
        "$$s = \\sqrt{s^{2}} = \\sqrt{\\frac{SS}{N - 1}} = \\sqrt{\\frac{\\sum (x_{i} - \\bar{x})^{2}}{N - 1}}$$\n",
        "\n",
        "$$\\therefore  \\sum_{i=1}^{N}(x_{i}-\\bar{x})^2 = (N-1)* s^{2}\n",
        "\\sum (x_{i} - \\bar{x})^{2}$$\n",
        "\n"
      ],
      "metadata": {
        "id": "19aTbbURG0_-"
      }
    },
    {
      "cell_type": "markdown",
      "source": [
        "\n",
        "$$\\hspace{2cm}S^2 = \\frac{\\sum_{i=1}^{N_1}(x_i-\\bar{x})^2+ \\sum_{i=1}^{N_2}(y_i-\\bar{y})^2}{N_1+N_2-2}$$\n",
        "\n",
        "\n",
        "$$\\hspace{2cm}S = \\sqrt{\\frac{\\sum_{i=1}^{N_1}(x_i-\\bar{x})^{2}+ \\sum_{i=1}^{N_2}(y_i-\\bar{y})^{2}}{{N_1} + {N_2} - 2}}$$\n",
        "\n"
      ],
      "metadata": {
        "id": "rbRuAlSnLMoA"
      }
    },
    {
      "cell_type": "markdown",
      "source": [
        "#### * Recordando que:\n",
        "* Dada la muestra bajo estudio, el desvío estándar del salario mensual neto para el grupo cuyo género es Hombre es: \\$102697.04 ARS.\n",
        "Mientras que la desviación estándar del salario mensual del grupo cuyo género NO es Hombre es: \\$54323.62 ARS.\n",
        "\n",
        "* El grupo de encuestados cuyo género:\n",
        "  - Grupo A - Es \"Hombre\" se compone de 4002 muestras.\n",
        "  - Grupo B - NO es \"Hombre\" se compone de 627 muestras.\n",
        "\n",
        "\n",
        "* dof = 4627"
      ],
      "metadata": {
        "id": "zPqx5d50gKJ0"
      }
    },
    {
      "cell_type": "markdown",
      "source": [
        "#### * Partiendo de las anteriores, calculamos la siguiente expresión:\n"
      ],
      "metadata": {
        "id": "jp0kI68pecRK"
      }
    },
    {
      "cell_type": "code",
      "source": [
        "std_AB = numpy.sqrt(((nA - 1)*(stdA)**2 + (nB - 1)*(stdB)**2) / dof)"
      ],
      "metadata": {
        "id": "hLVbFaDlGyKN"
      },
      "execution_count": null,
      "outputs": []
    },
    {
      "cell_type": "markdown",
      "source": [
        "A si mismo calculamos el Intervalo de confianza, que se define como:\n",
        "$$\\mathrm{CI} = \\bar{X} \\pm (t_{n - 1} \\times \\sigma_{\\bar{X}})$$"
      ],
      "metadata": {
        "id": "a8C0EUr4jCzP"
      }
    },
    {
      "cell_type": "code",
      "metadata": {
        "id": "0fA1RQ0upe6N",
        "outputId": "158ee4b1-de86-4493-af19-9695092bc9e7",
        "colab": {
          "base_uri": "https://localhost:8080/"
        }
      },
      "source": [
        "# Evalúamos en la distribución dados los criterios anteriores: \n",
        "t_val = t.ppf([1-alpha/2], dof)[0]\n",
        "\n",
        "# MoE: Margin of error\n",
        "MoE = t_val * std_AB * numpy.sqrt(1/nA + 1/nB) \n",
        "li = mean_diff - MoE\n",
        "ls = mean_diff + MoE\n",
        "print(f'La diferencia entre las medias poblacionales de los grupos A y B es de ${mean_diff:3.2f} ARS, \\n \\\n",
        "comprendido en el intervalo de confianza al {100-alpha*100}%: [{li:3.2f} - {ls:3.2f}]')"
      ],
      "execution_count": null,
      "outputs": [
        {
          "output_type": "stream",
          "name": "stdout",
          "text": [
            "La diferencia entre las medias poblacionales de los grupos A y B es de $25811.13 ARS, \n",
            " comprendido en el intervalo de confianza al 95.0%: [17595.71 - 34026.55]\n"
          ]
        }
      ]
    },
    {
      "cell_type": "markdown",
      "source": [
        "### En conclusión:\n",
        "\n",
        "* La diferencia entre los grupos es de \\$25811.13 ARS, comprendido en el intervalo de confianza al 95.0%: [17595.71 - 34026.55]. \n",
        "\n",
        "* A su vez podemos decir que si se realizará un test de hipótesis con $α = 0.05$, cualquier resultado que se encuentre dentro de este intervalo nos indica que no se podrá rechazar a la hipótesis nula ($H_0$), es decir **_que dice que no hay diferencia entre las medias_**. Por otro lado, se podría considerar el caso de obtener un resultado que se encuentre por fuera del intervalo calculado; en ese caso dado que asumimos que el supuesto es **_verdadero_**, si podría rechazarse $H_0$.\n"
      ],
      "metadata": {
        "id": "Gj52tdsvzo0F"
      }
    },
    {
      "cell_type": "markdown",
      "metadata": {
        "id": "IFi2T7Y6nM92"
      },
      "source": [
        "## Ejercicio 2: Test de hipótesis\n"
      ]
    },
    {
      "cell_type": "markdown",
      "metadata": {
        "id": "Rzxe8UYU6EfJ"
      },
      "source": [
        "\n",
        "### 2.1 Formalización\n",
        "\n",
        "Describir formalmente los distintos compenentes de un test de hipótesis para comprobar si la distribución de los salarios es distinta entre los grupos A y B.\n",
        "\n",
        "**Hipótesis Nula:**\n",
        "##### Dada la población de programadores argentinos, la diferencia entre la media del _salario Neto_ para \"_Hombres_\" y la correspondiente media del salario Neto para _\"otros géneros_\" es cero.\n",
        "\n",
        "$$\\\\ \\hspace{2cm}H_0:μ_A- μ_B=0\\hspace{2cm}μ_A= μ_B \\\\ $$\n",
        "\n",
        "**Hipótesis Alternativa:**\n",
        "\n",
        "$$\\\\ \\hspace{2cm}H_1:μ_A- μ_B\\neq 0\\hspace{2cm}μ_A \\neq μ_B \\\\ $$\n",
        "\n",
        "$$\\\\ \\hspace{2cm}H_1:μ_A- μ_B\\neq 0\\hspace{2cm}μ_A \\neq μ_B \\\\ $$\n",
        "\n",
        "\n",
        "  **Definimos el nivel de significancia** $\\alpha=0.05$\n",
        "\n",
        "  **Estadístico (Pivote)**\n",
        "  \n",
        "$\\hspace{2cm} T=\\frac{(\\bar{X}-\\bar{Y})-(μ_A- μ_B)}{S\\sqrt{\\frac{n_1+n_2}{(n_1.n_2)}}} \\hspace{2cm}S = \\sqrt{\\frac{\\sum_{i=1}^{n_1}(X_i-\\bar{X})^2+ \\sum_{i=1}^{n_2}(Y_i-\\bar{Y})^2}{n_1+n_2-2}} \\\\ \\\\ $\n",
        "\n",
        "  **Distribución del estadístico**\n",
        "\n",
        "$ \\hspace{2cm} T\\sim t_{n_1+n_2-2}$\n",
        "\n",
        "**Supuestos:** Ambas poblaciones poseen distribuciones normales y comparten la misma varianza. Las muestras tomadas de cada población son aleatorias e independientes.\n"
      ]
    },
    {
      "cell_type": "markdown",
      "metadata": {
        "id": "3Ip_5YdenC8u"
      },
      "source": [
        "### 2.2 P-valor\n",
        "\n",
        "1. Calcule el p-valor y decida si rechazar o no la hipótesis nula.\n",
        "2. Interprete el resultado.\n",
        "3. Los dos grupos de nuestra muestra tienen tamaños muy distintos. ¿Esto afecta al tests?\n",
        "\n",
        "Links útiles:\n",
        "* [Test de hipótesis usando scipy](https://docs.scipy.org/doc/scipy/reference/generated/scipy.stats.ttest_ind.html)\n",
        "* [Test de Welch](http://daniellakens.blogspot.com/2015/01/always-use-welchs-t-test-instead-of.html)"
      ]
    },
    {
      "cell_type": "markdown",
      "source": [
        "  2.2.1 Calculo del p-valor.\n",
        "\n",
        "  Utilizamos la funcion ***_ttest_ind_*** del modulo scipy.stats\n",
        "\n",
        "- Recibe como parámetros de entradas las muestra de dos muestras a evaluar\n",
        "\n",
        "- Devuelve el cálculo del estadístico y el p-valor para el test planteado\n",
        "\n",
        "- El parámetro **equal_varbool**, (_True_ por defecto) aplica el test T de Student asumiendo que ambas varianzas poblacionales son iguales.\n",
        "- Si por el contrario es configurado en _False_ aplica el **_Test de Welch_** (varianzas poblacionales distintas)\n",
        "\n",
        "- El parámetro opcional **alternative** {‘two-sided’, ‘less’, ‘greater’}, modela el \"tipo de cola\" a considerar para el test. En nuestro caso es dos colas dado que la hipotesis nula plantea una igualdad de medias. No hay relación de orden que derive en uno u otro lado de la distribución del estadístico."
      ],
      "metadata": {
        "id": "7z91clIOPS4o"
      }
    },
    {
      "cell_type": "markdown",
      "source": [
        "Configurando la función de acuerdo a lo expuesto previamente obtenemos:"
      ],
      "metadata": {
        "id": "VY0jVZlzHtFV"
      }
    },
    {
      "cell_type": "code",
      "source": [
        "# !pip install --upgrade scipy\n",
        "test_res = ttest_ind(groupA.salary_monthly_NETO,groupB.salary_monthly_NETO, equal_var=True )  #alternative='two-sided'\n",
        "print(test_res)\n",
        "print(f'p-valor obtenido: {test_res[1]:1.15f}')\n",
        "\n"
      ],
      "metadata": {
        "id": "WCzIBcjoFUWU",
        "outputId": "98f61011-4588-4bbc-f3e6-5401fec3c2e9",
        "colab": {
          "base_uri": "https://localhost:8080/"
        }
      },
      "execution_count": null,
      "outputs": [
        {
          "output_type": "stream",
          "name": "stdout",
          "text": [
            "Ttest_indResult(statistic=6.15940871483383, pvalue=7.920790970055273e-10)\n",
            "p-valor obtenido: 0.000000000792079\n"
          ]
        }
      ]
    },
    {
      "cell_type": "markdown",
      "source": [
        "### En conclusión:\n",
        "* Dado que el **_p-valor_ del test** de diferencia de medias es menor que $α$, se rechaza la $H_0$. Existe evidencia significativa para rechazar que las medias sean iguales.\n"
      ],
      "metadata": {
        "id": "U0Fi0Pld-Fv-"
      }
    },
    {
      "cell_type": "markdown",
      "metadata": {
        "id": "8VxiQr5YrQYR"
      },
      "source": [
        "### [Opcional] 2.3 Potencia del test\n",
        "\n",
        "Nuestra muestra, ¿era lo suficientemente grande para detectar si existe o no una diferencia entre los grupos?\n",
        "\n",
        "1. Utilice la función `tt_ind_solve_power` para calcular el tamaño necesario de la muestra para un poder estadístico de 0.8, 0.9 y 0.95, asumiendo una significancia estadística de 0.05.\n",
        "2. ¿Cómo intepretan el poder estadístico de un test? Dado su conocimiento de dominio sobre los datos, ¿les parece que esta muestra es lo suficientemente grande para ser representativo de la tendencia general? ¿y para utilizarlo en un juicio penal contra una empresa XX por una causa de discriminación?\n",
        "\n",
        "\n",
        "\n",
        "\n",
        "[Documentación](https://www.statsmodels.org/stable/generated/statsmodels.stats.power.tt_ind_solve_power.html)\n",
        "\n",
        "NOTA: este análisis debería hacerse ANTES de recolectar los datos."
      ]
    },
    {
      "cell_type": "code",
      "metadata": {
        "id": "_IiqGfo4t6Db"
      },
      "source": [
        "from statsmodels.stats.power import tt_ind_solve_power"
      ],
      "execution_count": null,
      "outputs": []
    },
    {
      "cell_type": "code",
      "metadata": {
        "id": "LUQ7MA2Apj9x",
        "colab": {
          "base_uri": "https://localhost:8080/"
        },
        "outputId": "d2c7c035-6cef-4e5b-b462-61aca405120b"
      },
      "source": [
        "effect_size = (groupA.mean() - groupB.mean()) / groupB.std()\n",
        "# nobs1=None  - What we want to know\n",
        "alpha = 0.05\n",
        "ratio = len(groupB) / len(groupA)"
      ],
      "execution_count": null,
      "outputs": [
        {
          "output_type": "stream",
          "name": "stderr",
          "text": [
            "/usr/local/lib/python3.7/dist-packages/ipykernel_launcher.py:1: FutureWarning: Dropping of nuisance columns in DataFrame reductions (with 'numeric_only=None') is deprecated; in a future version this will raise TypeError.  Select only valid columns before calling the reduction.\n",
            "  \"\"\"Entry point for launching an IPython kernel.\n"
          ]
        }
      ]
    },
    {
      "cell_type": "code",
      "metadata": {
        "id": "cvHcpY-3ty8Q"
      },
      "source": [
        "tt_ind_solve_power(effect_size=effect_size, alpha=alpha, power=power, ratio=ratio)"
      ],
      "execution_count": null,
      "outputs": []
    },
    {
      "cell_type": "markdown",
      "metadata": {
        "id": "useKMdPyMod5"
      },
      "source": [
        "## Ejercicio 3: Comunicación y visualización\n",
        "\n",
        "**Consigna:** Seleccionen un resultado que les parezca relevante a partir de alguno de los ejercicios del entregable. Diseñe e implemente una comunicación en base a este mensaje, en un archivo PDF.\n",
        "\n",
        "Elija las palabras y visualización más adecuada para que la comunicación sea entendible, efectiva y se dapte a UNA de las siguientes situaciones:\n",
        "\n",
        "1. Una sección en un artículo de difusión a presentar como parte de una organización sin fines de lucro.\n",
        "No más de 1 página A4 (o dos si los gráficos son muy grandes).\n",
        "  1. Ejemplo: Alguna de las secciones [Los ecosistemas de emprendimiento de América Latina y el Caribe frente al COVID-19: Impactos, necesidades y recomendaciones](https://publications.iadb.org/es/los-ecosistemas-de-emprendimiento-de-america-latina-y-el-caribe-frente-al-covid-19-impactos-necesidades-y-recomendaciones), por ejemplo la sección *2.2. Reacciones de los emprendedores*.\n",
        "  2. Ejemplo: Alguna de las secciones de [The state of gender pay gap in 2021](https://www.payscale.com/data/gender-pay-gap?tk=carousel-ps-rc-job)\n",
        "  3. Puntos clave: \n",
        "    1. Simpleza de los gráficos.\n",
        "    2. Comunicación en lenguaje simple a personas que no son necesariamente expertos de dominio.\n",
        "    2. Selección de UNA oración sobre la que se hace énfasis.\n",
        "    3. No es necesario que mencionen objetivos ni descripciones del conjunto de datos, se supone que eso ya estaría explicado en otras secciones del informe.\n",
        "\n",
        "2. Una publicación científica o reporte técnico interno. No más de una página A4:\n",
        "  2. Ejemplo: La sección de resultados de [IZA DP No. 12914: The Impact of a Minimum Wage Change on the Distribution of Wages and Household Income](https://www.iza.org/publications/dp/12914/the-impact-of-a-minimum-wage-change-on-the-distribution-of-wages-and-household-income).\n",
        "  2. Ejemplo: Alguna de las secciones de [Temporary reduction in daily global CO2 emissions during the COVID-19 forced confinement](https://www.nature.com/articles/s41558-020-0797-x)\n",
        "  3. Puntos clave:\n",
        "    3. Nivel de detalle técnico requerido. Es necesario justificar la validez del análisis.\n",
        "    4. La idea presentada puede ser más compleja. Pueden asumir que la audiencia tiene conocimiento técnico y va a analizar las visualizaciones en detalle. \n",
        "    5. Pueden presentar más en detalle las limitaciones del análisis (significancia estadística, etc.)\n",
        "    2. No es necesario que mencionen objetivos ni descripciones del conjunto de datos, se supone que eso ya estaría explicado en otras secciones del informe.\n",
        "\n",
        "3. Un tweet (o post de LinkedIn) para la cuenta de su empresa consultora que hace análisis de datos. El objetivo es promocionar un análisis de datos abiertos que van a incluir en su portfolio:\n",
        "  1. Ejemplo: [Comparación vacunas covid](https://twitter.com/infobeautiful/status/1381577746527236098?s=20)\n",
        "  2. Ejemplo: [Tweet del BID](https://twitter.com/el_BID/status/1388508583944507396?s=20). Lo valioso de este tweet es que usaron un único número para transmitir un mensaje. Puede ser algo así, o con un gráfico muy simple.\n",
        "  3. Ejemplo: [Cambio climático](https://twitter.com/UNFCCC/status/1387732156190011394?s=20) Es un muy buen ejemplo, excepto que el gráfico no se lee nada y hay que entrar a la publicación original.\n",
        "  3. Ejemplo: [¿Cuánto están los programadores en las empresas?](https://www.linkedin.com/posts/denis-rothman-0b034043_tech-career-work-activity-6793861923269054464-gS6y) (No verificamos la veracidad o seriedad de la fuente).\n",
        "  4. Puntos clave:\n",
        "    1. Su audiencia no va a mirar la visualización por más de unos segundos, y no tiene conocimiento técnico.\n",
        "  3. Tienen que incluir además una *breve* descripción de cómo obtuvieron los datos que están presentando, que no entraría en el tweet.\n"
      ]
    },
    {
      "cell_type": "code",
      "metadata": {
        "id": "twwYHUztt45L"
      },
      "source": [
        ""
      ],
      "execution_count": null,
      "outputs": []
    }
  ]
}